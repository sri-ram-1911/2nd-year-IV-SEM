{
 "cells": [
  {
   "cell_type": "code",
   "execution_count": 1,
   "id": "0907bb77-f6e1-423d-a32e-005a4ebca3eb",
   "metadata": {},
   "outputs": [],
   "source": [
    "import cv2"
   ]
  },
  {
   "cell_type": "code",
   "execution_count": 2,
   "id": "bb0a5072-da83-408c-a2e3-092f6f9880e5",
   "metadata": {},
   "outputs": [],
   "source": [
    "import numpy as np"
   ]
  },
  {
   "cell_type": "code",
   "execution_count": 3,
   "id": "1343e017-eb2f-4740-8d5e-3465054ffa3f",
   "metadata": {},
   "outputs": [],
   "source": [
    "im1=cv2.imread(\"C:/Users/admin/Pictures/cv/nature 1.jpg\")"
   ]
  },
  {
   "cell_type": "code",
   "execution_count": 4,
   "id": "f9359d19-2535-4403-bbcb-39c6463beeb3",
   "metadata": {},
   "outputs": [],
   "source": [
    "im2=cv2.imread(\"C:/Users/admin/Downloads/MOON.jpg\")"
   ]
  },
  {
   "cell_type": "code",
   "execution_count": 5,
   "id": "9f41a1ec-128a-4bf0-83f3-a361dec88e7c",
   "metadata": {},
   "outputs": [
    {
     "data": {
      "text/plain": [
       "(225, 225, 3)"
      ]
     },
     "execution_count": 5,
     "metadata": {},
     "output_type": "execute_result"
    }
   ],
   "source": [
    "im1.shape"
   ]
  },
  {
   "cell_type": "code",
   "execution_count": 6,
   "id": "c0b4eb8f-e67c-4f8f-9b73-fad89b868298",
   "metadata": {},
   "outputs": [
    {
     "data": {
      "text/plain": [
       "(675, 1200, 3)"
      ]
     },
     "execution_count": 6,
     "metadata": {},
     "output_type": "execute_result"
    }
   ],
   "source": [
    "im2.shape"
   ]
  },
  {
   "cell_type": "code",
   "execution_count": 7,
   "id": "b2384374-302c-4d53-ae19-675cc9a9c9d4",
   "metadata": {},
   "outputs": [],
   "source": [
    "im3=cv2.resize(im2,(225,225))"
   ]
  },
  {
   "cell_type": "code",
   "execution_count": 8,
   "id": "c50d5d78-2c01-4b68-b108-16ee4def9281",
   "metadata": {},
   "outputs": [
    {
     "data": {
      "text/plain": [
       "(225, 225, 3)"
      ]
     },
     "execution_count": 8,
     "metadata": {},
     "output_type": "execute_result"
    }
   ],
   "source": [
    "im3.shape"
   ]
  },
  {
   "cell_type": "code",
   "execution_count": 9,
   "id": "e75f46e9-37a0-4068-b63a-15c9b4437949",
   "metadata": {},
   "outputs": [
    {
     "data": {
      "text/plain": [
       "<function destroyAllWindows>"
      ]
     },
     "execution_count": 9,
     "metadata": {},
     "output_type": "execute_result"
    }
   ],
   "source": [
    "#blending\n",
    "blend=cv2.addWeighted(im1,0.6,im3,0.5,150)\n",
    "cv2.imshow(\"w1\",im1)\n",
    "cv2.imshow(\"w2\",im3)\n",
    "cv2.imshow(\"w3\",blend)\n",
    "cv2.waitKey(10)\n",
    "cv2.destroyAllWindows"
   ]
  },
  {
   "cell_type": "code",
   "execution_count": null,
   "id": "ce26632f-258a-4c54-8543-294228a864a6",
   "metadata": {},
   "outputs": [],
   "source": []
  },
  {
   "cell_type": "code",
   "execution_count": null,
   "id": "808ea7fd-6d62-4264-acf7-92913d4e2321",
   "metadata": {},
   "outputs": [],
   "source": []
  }
 ],
 "metadata": {
  "kernelspec": {
   "display_name": "Python 3 (ipykernel)",
   "language": "python",
   "name": "python3"
  },
  "language_info": {
   "codemirror_mode": {
    "name": "ipython",
    "version": 3
   },
   "file_extension": ".py",
   "mimetype": "text/x-python",
   "name": "python",
   "nbconvert_exporter": "python",
   "pygments_lexer": "ipython3",
   "version": "3.9.18"
  }
 },
 "nbformat": 4,
 "nbformat_minor": 5
}
