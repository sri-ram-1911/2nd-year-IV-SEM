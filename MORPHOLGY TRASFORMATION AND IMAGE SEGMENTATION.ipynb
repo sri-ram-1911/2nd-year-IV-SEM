{
 "cells": [
  {
   "cell_type": "code",
   "execution_count": 1,
   "id": "e6eab32b-2a68-4d1d-99e1-d2e894030a5e",
   "metadata": {},
   "outputs": [],
   "source": [
    "import cv2 as cv\n",
    "import numpy as np\n",
    "import matplotlib.pyplot as plt"
   ]
  },
  {
   "cell_type": "markdown",
   "id": "7b1aa14f-1f24-435f-91a3-bc3a76d3c5d6",
   "metadata": {},
   "source": [
    "## DILATION"
   ]
  },
  {
   "cell_type": "code",
   "execution_count": 2,
   "id": "acd49c48-9b02-4c2b-9565-aef52100519e",
   "metadata": {},
   "outputs": [],
   "source": [
    "mortrans=cv.imread(\"C:/Users/admin/Pictures/cv/mortrans.png\",0)\n",
    "mortrans=cv.cvtColor(mortrans,cv.COLOR_BGR2RGB)\n",
    "_,mot=cv.threshold(mortrans,220,225,cv.THRESH_BINARY)\n",
    "kernal=np.ones((7,7),np.uint8)\n",
    "dilation=cv.dilate(mot,kernal,iterations=3)\n",
    "erosion=cv.erode(mot,kernal,iterations=3)\n",
    "titles=[\"mortrans\",\"mot\"]\n",
    "img=[mortrans,mot]"
   ]
  },
  {
   "cell_type": "code",
   "execution_count": 3,
   "id": "5e5de1ce-e8b1-400b-acbe-e31944a1c7b5",
   "metadata": {},
   "outputs": [],
   "source": [
    "cv.imshow(\"mortrans\",mortrans)\n",
    "cv.imshow(\"mot\",mot)\n",
    "cv.imshow(\"dilation\",dilation)\n",
    "cv.imshow(\"erosion\",erosion)\n",
    "cv.waitKey(0)\n",
    "cv.destroyAllWindows()"
   ]
  },
  {
   "cell_type": "markdown",
   "id": "be267f0c-23a0-43d3-bcac-004bd28aa3a8",
   "metadata": {},
   "source": [
    "### MORPHOLOGICAL OPENING- ERROSION FOLLOWED BY DILATION"
   ]
  },
  {
   "cell_type": "code",
   "execution_count": null,
   "id": "8a6897f5-4bf7-4e31-beee-931c5d4b8076",
   "metadata": {},
   "outputs": [],
   "source": [
    "open=cv.morphologyEx(mortrans,cv.MORPH_OPEN,kernal)\n",
    "cv.imshow(\"mortrans\",mortrans)\n",
    "cv.imshow(\"open\",open)\n",
    "cv.waitKey(0)\n",
    "cv.destroyAllWindows()"
   ]
  },
  {
   "cell_type": "markdown",
   "id": "d3df8be1-8fcc-48bd-bc7a-b0a9ee0df71c",
   "metadata": {},
   "source": [
    "#### MORPHOLOGICAL CLOSING"
   ]
  },
  {
   "cell_type": "code",
   "execution_count": null,
   "id": "fb2a23b8-fe45-4fc4-ac92-e9a2ec9cb774",
   "metadata": {},
   "outputs": [],
   "source": [
    "open=cv.morphologyEx(mortrans,cv.MORPH_CLOSE,kernal)\n",
    "cv.imshow(\"mortrans\",mortrans)\n",
    "cv.imshow(\"open\",open)\n",
    "cv.waitKey(0)\n",
    "cv.destroyAllWindows()"
   ]
  },
  {
   "cell_type": "markdown",
   "id": "e3feef2d-d31d-45f3-8147-cae04bada381",
   "metadata": {},
   "source": [
    "#### DISPLAY-TOP HAT"
   ]
  },
  {
   "cell_type": "code",
   "execution_count": null,
   "id": "e8fa46d0-3c4a-42a2-b754-0ed1c661780e",
   "metadata": {},
   "outputs": [],
   "source": [
    "cv.imshow(\"open\",open)\n",
    "cv.waitKey(0)\n",
    "cv.destroyAllWindows()"
   ]
  },
  {
   "cell_type": "markdown",
   "id": "451eac88-0a9d-41c4-aaac-c26d71490238",
   "metadata": {},
   "source": [
    "#### BLACK HAT"
   ]
  },
  {
   "cell_type": "code",
   "execution_count": 4,
   "id": "e107a475-e0e9-43d7-8acd-20b2179bf4cf",
   "metadata": {},
   "outputs": [],
   "source": [
    "BLACKHAT=cv.morphologyEx(mortrans,cv.MORPH_BLACKHAT,kernal)"
   ]
  },
  {
   "cell_type": "code",
   "execution_count": 5,
   "id": "90f6dd9f-d4c2-486c-98b6-41f7ed6a16e6",
   "metadata": {},
   "outputs": [],
   "source": [
    "cv.imshow(\"mortrans\",mortrans)\n",
    "cv.imshow(\"BLACK HAT\",BLACKHAT)\n",
    "cv.waitKey(0)\n",
    "cv.destroyAllWindows()"
   ]
  },
  {
   "cell_type": "code",
   "execution_count": null,
   "id": "3cdd69f0-faa4-453c-81e2-410610e61ffa",
   "metadata": {},
   "outputs": [],
   "source": []
  }
 ],
 "metadata": {
  "kernelspec": {
   "display_name": "Python 3 (ipykernel)",
   "language": "python",
   "name": "python3"
  },
  "language_info": {
   "codemirror_mode": {
    "name": "ipython",
    "version": 3
   },
   "file_extension": ".py",
   "mimetype": "text/x-python",
   "name": "python",
   "nbconvert_exporter": "python",
   "pygments_lexer": "ipython3",
   "version": "3.9.18"
  }
 },
 "nbformat": 4,
 "nbformat_minor": 5
}
