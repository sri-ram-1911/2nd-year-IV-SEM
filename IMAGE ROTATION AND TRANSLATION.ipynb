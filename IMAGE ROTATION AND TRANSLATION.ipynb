{
 "cells": [
  {
   "cell_type": "markdown",
   "id": "c7b6b272-4962-4dd0-b20e-4e536cffc0e0",
   "metadata": {},
   "source": [
    "# IMAGE ROTATION AND TRANSLATION"
   ]
  },
  {
   "cell_type": "code",
   "execution_count": 1,
   "id": "eff23d04-da78-4e9d-bac8-52a25bf724d2",
   "metadata": {},
   "outputs": [],
   "source": [
    "import cv2\n",
    "import numpy as np"
   ]
  },
  {
   "cell_type": "code",
   "execution_count": 2,
   "id": "03e6f1bf-71b8-4ba0-8101-1c4d1bece8c6",
   "metadata": {},
   "outputs": [],
   "source": [
    "im1=cv2.imread(\"C:/Users/admin/Pictures/cv/buterrfly.jpg\")"
   ]
  },
  {
   "cell_type": "code",
   "execution_count": 3,
   "id": "cffd87d8-30b0-4413-bf4e-502b878bd7ea",
   "metadata": {},
   "outputs": [
    {
     "data": {
      "text/plain": [
       "(533, 800, 3)"
      ]
     },
     "execution_count": 3,
     "metadata": {},
     "output_type": "execute_result"
    }
   ],
   "source": [
    "shape=im1.shape\n",
    "shape"
   ]
  },
  {
   "cell_type": "code",
   "execution_count": 4,
   "id": "2884a989-6b2a-4bcf-bc23-d7f56e1f52ee",
   "metadata": {},
   "outputs": [
    {
     "name": "stdout",
     "output_type": "stream",
     "text": [
      "533\n",
      "800\n"
     ]
    }
   ],
   "source": [
    "height,width=im1.shape[:2]\n",
    "print(height)\n",
    "print(width)"
   ]
  },
  {
   "cell_type": "code",
   "execution_count": 5,
   "id": "11e12e74-8b5b-42c1-a40e-222a17fdab3b",
   "metadata": {},
   "outputs": [
    {
     "data": {
      "text/plain": [
       "(266.5, 400.0)"
      ]
     },
     "execution_count": 5,
     "metadata": {},
     "output_type": "execute_result"
    }
   ],
   "source": [
    "center=(height/2,width/2)\n",
    "center"
   ]
  },
  {
   "cell_type": "code",
   "execution_count": 6,
   "id": "2c2f90e6-a225-4e68-b6fb-f512ca5ac4b7",
   "metadata": {},
   "outputs": [],
   "source": [
    "rotation=cv2.getRotationMatrix2D(center=center,angle=180,scale=1)"
   ]
  },
  {
   "cell_type": "code",
   "execution_count": 7,
   "id": "534bb324-bb51-4ad9-ae42-4599890431ce",
   "metadata": {},
   "outputs": [
    {
     "data": {
      "text/plain": [
       "array([[-1.0000000e+00,  1.2246468e-16,  5.3300000e+02],\n",
       "       [-1.2246468e-16, -1.0000000e+00,  8.0000000e+02]])"
      ]
     },
     "execution_count": 7,
     "metadata": {},
     "output_type": "execute_result"
    }
   ],
   "source": [
    "rotation"
   ]
  },
  {
   "cell_type": "code",
   "execution_count": 8,
   "id": "096bd4fd-fe1b-46bd-bf1b-6759a82178c7",
   "metadata": {},
   "outputs": [],
   "source": [
    "rotated_im=cv2.warpAffine(src=im1,M=rotation,dsize=(width,height))"
   ]
  },
  {
   "cell_type": "code",
   "execution_count": null,
   "id": "870c9898-5c77-4755-b5c6-bae2ebdff3b8",
   "metadata": {},
   "outputs": [],
   "source": [
    "cv2.imshow(\"original image\",im1)\n",
    "cv2.imshow(\"rotated image\",rotated_im)\n",
    "cv2.waitKey(0)\n",
    "cv2.destroyAllWindows()"
   ]
  },
  {
   "cell_type": "markdown",
   "id": "3241229a-5734-44fa-8a82-631817ac4a6b",
   "metadata": {},
   "source": [
    "# TRANSLATION MATRIX"
   ]
  },
  {
   "cell_type": "code",
   "execution_count": 9,
   "id": "7d946bbd-c5ff-4d03-a212-40c6872e271d",
   "metadata": {},
   "outputs": [
    {
     "data": {
      "text/plain": [
       "(266.5, 400.0)"
      ]
     },
     "execution_count": 9,
     "metadata": {},
     "output_type": "execute_result"
    }
   ],
   "source": [
    "tx,ty=height/2,width/2\n",
    "tx,ty"
   ]
  },
  {
   "cell_type": "code",
   "execution_count": 15,
   "id": "258e6582-65fc-4f6d-b721-f677cf8eaeb1",
   "metadata": {},
   "outputs": [],
   "source": [
    "Translation_matrix=np.array([[5,0,tx],[0,5,ty]])"
   ]
  },
  {
   "cell_type": "code",
   "execution_count": 16,
   "id": "f406afc7-540b-4f5c-98a4-1734ff24c423",
   "metadata": {},
   "outputs": [
    {
     "data": {
      "text/plain": [
       "array([[  5. ,   0. , 266.5],\n",
       "       [  0. ,   5. , 400. ]])"
      ]
     },
     "execution_count": 16,
     "metadata": {},
     "output_type": "execute_result"
    }
   ],
   "source": [
    "Translation_matrix"
   ]
  },
  {
   "cell_type": "code",
   "execution_count": 17,
   "id": "28939045-9e49-4917-a29d-3a0b88efaceb",
   "metadata": {},
   "outputs": [],
   "source": [
    "rotated_im=cv2.warpAffine(src=im1,M=Translation_matrix,dsize=(width,height))"
   ]
  },
  {
   "cell_type": "code",
   "execution_count": null,
   "id": "f33a98ec-76c1-439e-bff8-70102300b273",
   "metadata": {},
   "outputs": [],
   "source": []
  },
  {
   "cell_type": "code",
   "execution_count": null,
   "id": "99d24643-46f3-4e46-87e2-32d0e83a4938",
   "metadata": {},
   "outputs": [],
   "source": [
    "cv2.imshow(\"original image\",im1)\n",
    "cv2.imshow(\"rotated image\",Translation_matrix)\n",
    "cv2.waitKey(0)\n",
    "cv2.destroyAllWindows()"
   ]
  }
 ],
 "metadata": {
  "kernelspec": {
   "display_name": "Python 3 (ipykernel)",
   "language": "python",
   "name": "python3"
  },
  "language_info": {
   "codemirror_mode": {
    "name": "ipython",
    "version": 3
   },
   "file_extension": ".py",
   "mimetype": "text/x-python",
   "name": "python",
   "nbconvert_exporter": "python",
   "pygments_lexer": "ipython3",
   "version": "3.9.18"
  }
 },
 "nbformat": 4,
 "nbformat_minor": 5
}
