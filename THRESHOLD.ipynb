{
 "cells": [
  {
   "cell_type": "code",
   "execution_count": 1,
   "id": "3d093bd1-82ae-485d-8405-556766a5812c",
   "metadata": {},
   "outputs": [],
   "source": [
    "import cv2\n",
    "import numpy as np"
   ]
  },
  {
   "cell_type": "code",
   "execution_count": 2,
   "id": "36d6b73c-f5b2-43a8-9ccb-188b3aca0863",
   "metadata": {},
   "outputs": [],
   "source": [
    "im1=cv2.imread(\"C:/Users/admin/Pictures/cv/nature 1.jpg\")"
   ]
  },
  {
   "cell_type": "code",
   "execution_count": 3,
   "id": "ea69c3ef-e155-4d4c-adec-3c90fa6de443",
   "metadata": {},
   "outputs": [
    {
     "data": {
      "text/plain": [
       "<function destroyAllWindows>"
      ]
     },
     "execution_count": 3,
     "metadata": {},
     "output_type": "execute_result"
    }
   ],
   "source": [
    "cv2.imshow(\"img\",im1)\n",
    "cv2.waitKey(5)\n",
    "cv2.destroyAllWindows"
   ]
  },
  {
   "cell_type": "code",
   "execution_count": null,
   "id": "49f577f4-3201-4d0e-8513-18df4ae1bfa6",
   "metadata": {},
   "outputs": [],
   "source": [
    "ret,thres=cv2.threshold(im1,197,193,cv2.THRESH_BINARY)\n",
    "ret,thres=cv2.threshold(im1,197,193,cv2.THRESH_BINARY_INV)\n",
    "ret,thres=cv2.threshold(im1,197,193,cv2.THRESH_TRUNC)\n",
    "ret,thres=cv2.threshold(im1,197,193,cv2.THRESH_TOZERO)\n",
    "ret,thres=cv2.threshold(im1,197,193,cv2.THRESH_TOZERO_INV)"
   ]
  }
 ],
 "metadata": {
  "kernelspec": {
   "display_name": "Python 3 (ipykernel)",
   "language": "python",
   "name": "python3"
  },
  "language_info": {
   "codemirror_mode": {
    "name": "ipython",
    "version": 3
   },
   "file_extension": ".py",
   "mimetype": "text/x-python",
   "name": "python",
   "nbconvert_exporter": "python",
   "pygments_lexer": "ipython3",
   "version": "3.9.18"
  }
 },
 "nbformat": 4,
 "nbformat_minor": 5
}
