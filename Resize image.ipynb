{
 "cells": [
  {
   "cell_type": "code",
   "execution_count": 1,
   "id": "7183b4cf-1fef-4db9-9899-9dee7c32e949",
   "metadata": {},
   "outputs": [],
   "source": [
    "import cv2\n",
    "import numpy as np"
   ]
  },
  {
   "cell_type": "code",
   "execution_count": 2,
   "id": "cb6b0d46-34a4-40fc-a78f-cbfe457d183b",
   "metadata": {},
   "outputs": [],
   "source": [
    "im1=cv2.imread(\"C:/Users/admin/Pictures/cv/nature 1.jpg\")"
   ]
  },
  {
   "cell_type": "code",
   "execution_count": 3,
   "id": "813feab2-0d29-40b5-bd5a-e88a083e4e22",
   "metadata": {
    "scrolled": true
   },
   "outputs": [
    {
     "data": {
      "text/plain": [
       "array([[[ 24,  24,  18],\n",
       "        [ 34,  34,  28],\n",
       "        [ 45,  46,  37],\n",
       "        ...,\n",
       "        [  1,   4,   2],\n",
       "        [  0,   2,   0],\n",
       "        [ 26,  28,  29]],\n",
       "\n",
       "       [[ 17,  17,  11],\n",
       "        [ 25,  25,  19],\n",
       "        [ 42,  43,  34],\n",
       "        ...,\n",
       "        [  4,   7,   5],\n",
       "        [  2,   5,   3],\n",
       "        [  8,  10,  10]],\n",
       "\n",
       "       [[ 22,  19,  14],\n",
       "        [ 21,  18,  13],\n",
       "        [ 40,  38,  30],\n",
       "        ...,\n",
       "        [  7,  10,   8],\n",
       "        [  5,   8,   6],\n",
       "        [  0,   0,   0]],\n",
       "\n",
       "       ...,\n",
       "\n",
       "       [[ 10,  17,  10],\n",
       "        [ 14,  21,  14],\n",
       "        [ 26,  29,  20],\n",
       "        ...,\n",
       "        [ 61, 147, 141],\n",
       "        [  4,  91,  87],\n",
       "        [ 14,  94,  93]],\n",
       "\n",
       "       [[ 13,  19,  14],\n",
       "        [ 17,  24,  17],\n",
       "        [ 29,  31,  25],\n",
       "        ...,\n",
       "        [ 67, 152, 148],\n",
       "        [  0,  77,  73],\n",
       "        [  7,  85,  84]],\n",
       "\n",
       "       [[ 14,  21,  18],\n",
       "        [ 20,  27,  24],\n",
       "        [ 33,  36,  34],\n",
       "        ...,\n",
       "        [ 18,  94,  93],\n",
       "        [  0,  80,  79],\n",
       "        [ 23, 101, 100]]], dtype=uint8)"
      ]
     },
     "execution_count": 3,
     "metadata": {},
     "output_type": "execute_result"
    }
   ],
   "source": [
    "im1"
   ]
  },
  {
   "cell_type": "code",
   "execution_count": 4,
   "id": "cac9eed0-c653-408e-b4e2-a397e2d75e6c",
   "metadata": {},
   "outputs": [
    {
     "data": {
      "text/plain": [
       "(225, 225, 3)"
      ]
     },
     "execution_count": 4,
     "metadata": {},
     "output_type": "execute_result"
    }
   ],
   "source": [
    "im1.shape"
   ]
  },
  {
   "cell_type": "code",
   "execution_count": 5,
   "id": "a04ba3a2-537c-41b3-aaf7-24ede8351fb7",
   "metadata": {},
   "outputs": [
    {
     "data": {
      "text/plain": [
       "151875"
      ]
     },
     "execution_count": 5,
     "metadata": {},
     "output_type": "execute_result"
    }
   ],
   "source": [
    "im1.size"
   ]
  },
  {
   "cell_type": "code",
   "execution_count": 6,
   "id": "d6356e60-24e3-41ed-8388-5d2397946ec2",
   "metadata": {},
   "outputs": [],
   "source": [
    "im1_resize=cv2.resize(im1,(150,150))"
   ]
  },
  {
   "cell_type": "code",
   "execution_count": 8,
   "id": "68d35d98-6ab9-4a43-a977-e9436b97e63c",
   "metadata": {},
   "outputs": [
    {
     "data": {
      "text/plain": [
       "(150, 150, 3)"
      ]
     },
     "execution_count": 8,
     "metadata": {},
     "output_type": "execute_result"
    }
   ],
   "source": [
    "im1_resize.shape"
   ]
  },
  {
   "cell_type": "code",
   "execution_count": 15,
   "id": "5ffb9669-0108-4012-9713-5c16238bb385",
   "metadata": {},
   "outputs": [
    {
     "data": {
      "text/plain": [
       "<function destroyAllWindows>"
      ]
     },
     "execution_count": 15,
     "metadata": {},
     "output_type": "execute_result"
    }
   ],
   "source": [
    "cv2.imshow(\"img\",im1)\n",
    "cv2.imshow(\"img2\",im1_resize)\n",
    "cv2.waitKey(5)\n",
    "cv2.destroyAllWindows"
   ]
  },
  {
   "cell_type": "code",
   "execution_count": null,
   "id": "2468c30b-2e81-47c6-b449-56877050453f",
   "metadata": {},
   "outputs": [],
   "source": []
  }
 ],
 "metadata": {
  "kernelspec": {
   "display_name": "Python 3 (ipykernel)",
   "language": "python",
   "name": "python3"
  },
  "language_info": {
   "codemirror_mode": {
    "name": "ipython",
    "version": 3
   },
   "file_extension": ".py",
   "mimetype": "text/x-python",
   "name": "python",
   "nbconvert_exporter": "python",
   "pygments_lexer": "ipython3",
   "version": "3.9.18"
  }
 },
 "nbformat": 4,
 "nbformat_minor": 5
}
