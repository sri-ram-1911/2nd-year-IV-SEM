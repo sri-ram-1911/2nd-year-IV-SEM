{
 "cells": [
  {
   "cell_type": "code",
   "execution_count": 1,
   "id": "f439d327-f361-4947-b81c-baedf680bf95",
   "metadata": {},
   "outputs": [],
   "source": [
    "import cv2 as cv\n",
    "import numpy as np"
   ]
  },
  {
   "cell_type": "markdown",
   "id": "c1cdc9d7-6b28-4bc8-9d0c-df9d6a5ec228",
   "metadata": {},
   "source": [
    "#### REGION OF INTREST"
   ]
  },
  {
   "cell_type": "code",
   "execution_count": 9,
   "id": "820c7405-3b19-4ae7-af38-0154f2b4be56",
   "metadata": {},
   "outputs": [
    {
     "data": {
      "text/plain": [
       "<function destroyAllWindows>"
      ]
     },
     "execution_count": 9,
     "metadata": {},
     "output_type": "execute_result"
    }
   ],
   "source": [
    "#RAED IMAGE\n",
    "img=cv.imread(\"C:/Users/admin/Pictures/cv/butterfly.jfif\")\n",
    "r=cv.selectROI(\"selected  area\",img)\n",
    "cropped_image=img[int(r[1]):int(r[1])+int(r[3]),int(r[0]):int(r[0])+int(r[2])]\n",
    "cv.imshow(\"cropped image\",cropped_image)\n",
    "cv.waitKey(0)\n",
    "cv.destroyAllWindows"
   ]
  },
  {
   "cell_type": "code",
   "execution_count": 7,
   "id": "e1638429-2a74-40e6-b5fd-81f02ca4844b",
   "metadata": {},
   "outputs": [
    {
     "data": {
      "text/plain": [
       "(275, 183, 3)"
      ]
     },
     "execution_count": 7,
     "metadata": {},
     "output_type": "execute_result"
    }
   ],
   "source": [
    "img=cv.imread(\"C:/Users/admin/Pictures/cv/butterfly.jfif\")\n",
    "img.shape"
   ]
  },
  {
   "cell_type": "code",
   "execution_count": null,
   "id": "d27ce1f9-43d8-4e74-b84e-13892fe7f90d",
   "metadata": {},
   "outputs": [],
   "source": []
  }
 ],
 "metadata": {
  "kernelspec": {
   "display_name": "Python 3 (ipykernel)",
   "language": "python",
   "name": "python3"
  },
  "language_info": {
   "codemirror_mode": {
    "name": "ipython",
    "version": 3
   },
   "file_extension": ".py",
   "mimetype": "text/x-python",
   "name": "python",
   "nbconvert_exporter": "python",
   "pygments_lexer": "ipython3",
   "version": "3.9.18"
  }
 },
 "nbformat": 4,
 "nbformat_minor": 5
}
