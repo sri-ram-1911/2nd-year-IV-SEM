{
 "cells": [
  {
   "cell_type": "markdown",
   "id": "511007dd-4041-434d-b5a0-776a983ca14e",
   "metadata": {},
   "source": [
    "COLOR SPACE CHANGING"
   ]
  },
  {
   "cell_type": "code",
   "execution_count": 4,
   "id": "648a3d57-4b90-42a5-be33-3dc8f8827cdd",
   "metadata": {},
   "outputs": [],
   "source": [
    "import numpy as np"
   ]
  },
  {
   "cell_type": "code",
   "execution_count": 2,
   "id": "2a7be023-c957-46f7-a31a-731110c4548d",
   "metadata": {},
   "outputs": [],
   "source": [
    "import cv2"
   ]
  },
  {
   "cell_type": "code",
   "execution_count": 3,
   "id": "0eac3823-66fd-4126-bfc6-a78e9769f076",
   "metadata": {},
   "outputs": [],
   "source": [
    "color_available=[i for i in dir(cv2) if i.startswith(\"COLOR_BGR\")]"
   ]
  },
  {
   "cell_type": "code",
   "execution_count": 5,
   "id": "3e9cfae6-10e6-4980-a8a0-928536acea7a",
   "metadata": {},
   "outputs": [
    {
     "data": {
      "text/plain": [
       "['COLOR_BGR2BGR555',\n",
       " 'COLOR_BGR2BGR565',\n",
       " 'COLOR_BGR2BGRA',\n",
       " 'COLOR_BGR2GRAY',\n",
       " 'COLOR_BGR2HLS',\n",
       " 'COLOR_BGR2HLS_FULL',\n",
       " 'COLOR_BGR2HSV',\n",
       " 'COLOR_BGR2HSV_FULL',\n",
       " 'COLOR_BGR2LAB',\n",
       " 'COLOR_BGR2LUV',\n",
       " 'COLOR_BGR2Lab',\n",
       " 'COLOR_BGR2Luv',\n",
       " 'COLOR_BGR2RGB',\n",
       " 'COLOR_BGR2RGBA',\n",
       " 'COLOR_BGR2XYZ',\n",
       " 'COLOR_BGR2YCR_CB',\n",
       " 'COLOR_BGR2YCrCb',\n",
       " 'COLOR_BGR2YUV',\n",
       " 'COLOR_BGR2YUV_I420',\n",
       " 'COLOR_BGR2YUV_IYUV',\n",
       " 'COLOR_BGR2YUV_UYNV',\n",
       " 'COLOR_BGR2YUV_UYVY',\n",
       " 'COLOR_BGR2YUV_Y422',\n",
       " 'COLOR_BGR2YUV_YUNV',\n",
       " 'COLOR_BGR2YUV_YUY2',\n",
       " 'COLOR_BGR2YUV_YUYV',\n",
       " 'COLOR_BGR2YUV_YV12',\n",
       " 'COLOR_BGR2YUV_YVYU',\n",
       " 'COLOR_BGR5552BGR',\n",
       " 'COLOR_BGR5552BGRA',\n",
       " 'COLOR_BGR5552GRAY',\n",
       " 'COLOR_BGR5552RGB',\n",
       " 'COLOR_BGR5552RGBA',\n",
       " 'COLOR_BGR5652BGR',\n",
       " 'COLOR_BGR5652BGRA',\n",
       " 'COLOR_BGR5652GRAY',\n",
       " 'COLOR_BGR5652RGB',\n",
       " 'COLOR_BGR5652RGBA',\n",
       " 'COLOR_BGRA2BGR',\n",
       " 'COLOR_BGRA2BGR555',\n",
       " 'COLOR_BGRA2BGR565',\n",
       " 'COLOR_BGRA2GRAY',\n",
       " 'COLOR_BGRA2RGB',\n",
       " 'COLOR_BGRA2RGBA',\n",
       " 'COLOR_BGRA2YUV_I420',\n",
       " 'COLOR_BGRA2YUV_IYUV',\n",
       " 'COLOR_BGRA2YUV_UYNV',\n",
       " 'COLOR_BGRA2YUV_UYVY',\n",
       " 'COLOR_BGRA2YUV_Y422',\n",
       " 'COLOR_BGRA2YUV_YUNV',\n",
       " 'COLOR_BGRA2YUV_YUY2',\n",
       " 'COLOR_BGRA2YUV_YUYV',\n",
       " 'COLOR_BGRA2YUV_YV12',\n",
       " 'COLOR_BGRA2YUV_YVYU']"
      ]
     },
     "execution_count": 5,
     "metadata": {},
     "output_type": "execute_result"
    }
   ],
   "source": [
    "color_available"
   ]
  },
  {
   "cell_type": "code",
   "execution_count": 8,
   "id": "e8781ad8-8ece-40b3-b8c1-e66db73ad788",
   "metadata": {},
   "outputs": [],
   "source": [
    "im1=cv2.imread(\"C:/Users/admin/Pictures/cv/nature 1.jpg\")"
   ]
  },
  {
   "cell_type": "code",
   "execution_count": 17,
   "id": "5e625569-8319-4002-ba12-b8c9c2d92a22",
   "metadata": {},
   "outputs": [],
   "source": [
    "im3=cv2.cvtColor(im1,cv2.COLOR_BGR2Lab)"
   ]
  },
  {
   "cell_type": "code",
   "execution_count": 19,
   "id": "4ef4b453-5333-42c8-8bd8-c816d4751a16",
   "metadata": {},
   "outputs": [
    {
     "data": {
      "text/plain": [
       "<function destroyAllWindows>"
      ]
     },
     "execution_count": 19,
     "metadata": {},
     "output_type": "execute_result"
    }
   ],
   "source": [
    "cv2.imshow(\"img\",im1)\n",
    "cv2.imshow(\"img5\",im3)\n",
    "cv2.waitKey(15)\n",
    "cv2.destroyAllWindows"
   ]
  },
  {
   "cell_type": "markdown",
   "id": "78a1fe35-72b9-46d0-9b37-ea9fa6ee6b5c",
   "metadata": {},
   "source": [
    "#image blending"
   ]
  },
  {
   "cell_type": "code",
   "execution_count": null,
   "id": "514d8987-b94b-4729-a9cc-d24cb5036056",
   "metadata": {},
   "outputs": [],
   "source": []
  }
 ],
 "metadata": {
  "kernelspec": {
   "display_name": "Python 3 (ipykernel)",
   "language": "python",
   "name": "python3"
  },
  "language_info": {
   "codemirror_mode": {
    "name": "ipython",
    "version": 3
   },
   "file_extension": ".py",
   "mimetype": "text/x-python",
   "name": "python",
   "nbconvert_exporter": "python",
   "pygments_lexer": "ipython3",
   "version": "3.9.18"
  }
 },
 "nbformat": 4,
 "nbformat_minor": 5
}
